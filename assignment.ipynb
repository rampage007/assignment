{
  "nbformat": 4,
  "nbformat_minor": 0,
  "metadata": {
    "colab": {
      "name": "assignment.ipynb",
      "provenance": []
    },
    "kernelspec": {
      "name": "python3",
      "display_name": "Python 3"
    }
  },
  "cells": [
    {
      "cell_type": "code",
      "metadata": {
        "id": "27AMsSz9c7L6",
        "colab_type": "code",
        "colab": {
          "base_uri": "https://localhost:8080/",
          "height": 54
        },
        "outputId": "1b18de64-4740-4457-f1f9-23dd8e55b25f"
      },
      "source": [
        "m=[]\n",
        "for i in range(2500,3201,1):\n",
        "  if ((i % 7 == 0) & (i % 5 != 0)):\n",
        "    m.append(i)\n",
        "for i in m:\n",
        "  print(i,end =',')"
      ],
      "execution_count": 11,
      "outputs": [
        {
          "output_type": "stream",
          "text": [
            "2506,2513,2527,2534,2541,2548,2562,2569,2576,2583,2597,2604,2611,2618,2632,2639,2646,2653,2667,2674,2681,2688,2702,2709,2716,2723,2737,2744,2751,2758,2772,2779,2786,2793,2807,2814,2821,2828,2842,2849,2856,2863,2877,2884,2891,2898,2912,2919,2926,2933,2947,2954,2961,2968,2982,2989,2996,3003,3017,3024,3031,3038,3052,3059,3066,3073,3087,3094,3101,3108,3122,3129,3136,3143,3157,3164,3171,3178,3192,3199,"
          ],
          "name": "stdout"
        }
      ]
    },
    {
      "cell_type": "code",
      "metadata": {
        "id": "JVzO7GMXgLn5",
        "colab_type": "code",
        "colab": {
          "base_uri": "https://localhost:8080/",
          "height": 68
        },
        "outputId": "5f98b3d7-01d3-4f1e-8ab3-0e8a683bd374"
      },
      "source": [
        "a= input(\"Enter the first name \")\n",
        "b= input(\"Enter the last name \")\n",
        "print(b,a)"
      ],
      "execution_count": 12,
      "outputs": [
        {
          "output_type": "stream",
          "text": [
            "Enter the first nameTeja\n",
            "Enter the last namekoduri\n",
            "koduri Teja\n"
          ],
          "name": "stdout"
        }
      ]
    },
    {
      "cell_type": "code",
      "metadata": {
        "id": "2hkan4OEittx",
        "colab_type": "code",
        "colab": {
          "base_uri": "https://localhost:8080/",
          "height": 34
        },
        "outputId": "6ee70328-1897-4eeb-e481-c684f59cdfed"
      },
      "source": [
        "diameter = 12\n",
        "radius = diameter/2\n",
        "Volume = (4/3)* 3.14 * radius**3\n",
        "print(Volume)"
      ],
      "execution_count": 23,
      "outputs": [
        {
          "output_type": "stream",
          "text": [
            "904.3199999999999\n"
          ],
          "name": "stdout"
        }
      ]
    },
    {
      "cell_type": "code",
      "metadata": {
        "id": "Tpl1IuezkKKk",
        "colab_type": "code",
        "colab": {
          "base_uri": "https://localhost:8080/",
          "height": 51
        },
        "outputId": "0a2a671e-5187-4392-dca9-fcfc79436f56"
      },
      "source": [
        "comma_separated = input(\"Enter the values with comma seperation \")\n",
        "l=[]\n",
        "for k in comma_separated:\n",
        "  if k != ',':\n",
        "    l.append(k)\n",
        "print(l)"
      ],
      "execution_count": 22,
      "outputs": [
        {
          "output_type": "stream",
          "text": [
            "Enter the values with comma seperation2,3,4\n",
            "['2', '3', '4']\n"
          ],
          "name": "stdout"
        }
      ]
    },
    {
      "cell_type": "code",
      "metadata": {
        "id": "UhoetzGJlygu",
        "colab_type": "code",
        "colab": {
          "base_uri": "https://localhost:8080/",
          "height": 153
        },
        "outputId": "29a0522c-64db-4055-d1d9-6d003430427e"
      },
      "source": [
        "for i in range(0,5):\n",
        "  for j in range(i):\n",
        "    print('*',end = \" \")\n",
        "  print('')\n",
        "for i in range(3,0,-1):\n",
        "  for j in range(i,0,-1):\n",
        "    print(\"*\",end = \" \")\n",
        "  print('')"
      ],
      "execution_count": 35,
      "outputs": [
        {
          "output_type": "stream",
          "text": [
            "\n",
            "* \n",
            "* * \n",
            "* * * \n",
            "* * * * \n",
            "* * * \n",
            "* * \n",
            "* \n"
          ],
          "name": "stdout"
        }
      ]
    },
    {
      "cell_type": "code",
      "metadata": {
        "id": "44eQ6PU3r86M",
        "colab_type": "code",
        "colab": {
          "base_uri": "https://localhost:8080/",
          "height": 51
        },
        "outputId": "83d1ac08-d781-43be-b164-c73eda888db0"
      },
      "source": [
        "input_word = input(\"Enter the word \")\n",
        "b= len(input_word)\n",
        "for i in range(b,0,-1):\n",
        "  print(input_word[i-1],end =\"\")"
      ],
      "execution_count": 42,
      "outputs": [
        {
          "output_type": "stream",
          "text": [
            "Enter the word teja\n",
            "ajet"
          ],
          "name": "stdout"
        }
      ]
    },
    {
      "cell_type": "code",
      "metadata": {
        "id": "9FemHbzdvRKa",
        "colab_type": "code",
        "colab": {
          "base_uri": "https://localhost:8080/",
          "height": 85
        },
        "outputId": "d1b055d9-6c22-4709-c0fa-fa93c12d0304"
      },
      "source": [
        "print(\"WE, THE PEOPLE OF INDIA,\\n\\thaving solemnly resolved to constitute India into a SOVEREIGN, !\\n\\t\\tSOCIALIST, SECULAR, DEMOCRATIC REPUBLIC\\n\\t\\t and to secure to all its citizens\")"
      ],
      "execution_count": 43,
      "outputs": [
        {
          "output_type": "stream",
          "text": [
            "WE, THE PEOPLE OF INDIA,\n",
            "\thaving solemnly resolved to constitute India into a SOVEREIGN, !\n",
            "\t\tSOCIALIST, SECULAR, DEMOCRATIC REPUBLIC\n",
            "\t\t and to secure to all its citizens\n"
          ],
          "name": "stdout"
        }
      ]
    }
  ]
}